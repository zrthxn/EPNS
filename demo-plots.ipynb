{
 "cells": [
  {
   "cell_type": "code",
   "execution_count": 1,
   "id": "add92475-4f1a-4bca-a25a-62e458db5d49",
   "metadata": {},
   "outputs": [
    {
     "name": "stdout",
     "output_type": "stream",
     "text": [
      "/home/h5/syhu386f/EPNS\n"
     ]
    },
    {
     "name": "stderr",
     "output_type": "stream",
     "text": [
      "/software/util/JupyterLab/alpha/share/pytorch_v2/lib/python3.10/site-packages/IPython/core/magics/osm.py:417: UserWarning: using dhist requires you to install the `pickleshare` library.\n",
      "  self.shell.db['dhist'] = compress_dhist(dhist)[-100:]\n"
     ]
    }
   ],
   "source": [
    "%cd EPNS"
   ]
  },
  {
   "cell_type": "code",
   "execution_count": 2,
   "id": "81585bb4-2ce0-47d2-97ad-71bfff2e59a0",
   "metadata": {},
   "outputs": [],
   "source": [
    "!source .venv/bin/activate"
   ]
  },
  {
   "cell_type": "markdown",
   "id": "718aa14d-d6df-452b-842b-0bbef8b18d3c",
   "metadata": {},
   "source": [
    "# One Cell"
   ]
  },
  {
   "cell_type": "code",
   "execution_count": 3,
   "id": "a6dd9064-0ef8-4430-8971-6ec08f08c309",
   "metadata": {},
   "outputs": [],
   "source": [
    "!mkdir -p ../simulations/morpheus-singlecell/results"
   ]
  },
  {
   "cell_type": "code",
   "execution_count": null,
   "id": "762c1ec3-d975-4a6d-b5b0-0ca76e3b88e4",
   "metadata": {},
   "outputs": [],
   "source": [
    "!python val_model.py cell_dynamics_EPNS ../models/morpheus-singlecell-800.pt \\\n",
    "    --data_directory=../simulations/morpheus-singlecell \\\n",
    "    --save_path=../simulations/morpheus-singlecell/results \\\n",
    "    --device=cuda"
   ]
  },
  {
   "cell_type": "code",
   "execution_count": 7,
   "id": "5ec70f28-7098-4e50-90ba-1cb356a69848",
   "metadata": {},
   "outputs": [
    {
     "name": "stdout",
     "output_type": "stream",
     "text": [
      "MovieWriter ffmpeg unavailable; using Pillow instead.\n",
      "MovieWriter ffmpeg unavailable; using Pillow instead.\n",
      "MovieWriter ffmpeg unavailable; using Pillow instead.\n",
      "MovieWriter ffmpeg unavailable; using Pillow instead.\n",
      "MovieWriter ffmpeg unavailable; using Pillow instead.\n",
      "MovieWriter ffmpeg unavailable; using Pillow instead.\n",
      "MovieWriter ffmpeg unavailable; using Pillow instead.\n",
      "MovieWriter ffmpeg unavailable; using Pillow instead.\n"
     ]
    }
   ],
   "source": [
    "!python datagen/nparray_to_gif.py color_plots --directory ../simulations/morpheus-singlecell/results --cmap inferno"
   ]
  },
  {
   "cell_type": "markdown",
   "id": "465e5037-f9a5-477f-85d0-e6857e18508b",
   "metadata": {
    "jp-MarkdownHeadingCollapsed": true
   },
   "source": [
    "# Two Cell w/ Single cell Model"
   ]
  },
  {
   "cell_type": "code",
   "execution_count": 7,
   "id": "75e264e1-b47e-4925-b920-959aa0850f82",
   "metadata": {},
   "outputs": [],
   "source": [
    "!mkdir -p ../simulations/morpheus-twocell/results-one"
   ]
  },
  {
   "cell_type": "code",
   "execution_count": 3,
   "id": "40187d43-27d3-4eff-b6ef-769fbf1f181a",
   "metadata": {},
   "outputs": [
    {
     "name": "stdout",
     "output_type": "stream",
     "text": [
      "set data_directory to ../simulations/morpheus-twocell in main config!\n",
      "set save_path to ../simulations/morpheus-twocell/results in main config!\n",
      "set device to cuda in main config!\n",
      "shape of first datapoint: (60, 80, 80, 2) . Number of train datapoints: 10 number of val datapoints: 10 number of test datapoints: 10\n",
      "/software/util/JupyterLab/alpha/share/pytorch_v2/lib/python3.10/site-packages/torch/nn/modules/lazy.py:181: UserWarning: Lazy modules are a new feature under heavy development so changes to the API or functionality can happen at any moment.\n",
      "  warnings.warn('Lazy modules are a new feature under heavy development '\n",
      "using conditional VAE decoder\n",
      "lowest level shape in U-net processor: torch.Size([4, 256, 10, 10])\n",
      "griddeepset permutation equivariance check succesful!\n",
      "lowest level shape in U-net processor: torch.Size([4, 256, 10, 10])\n",
      "/home/h5/syhu386f/EPNS/epns/modules/engine/Grid_modules.py:319: UserWarning: griddeepset permutation equivariance check failed! This is probably due to floating point arithmetic.\n",
      "consider checking this on the cpu and with double() types just to be sure! (see the code that is commented out in this function)\n",
      "  warnings.warn(msg)\n",
      "2it [00:05,  2.54s/it]\n"
     ]
    }
   ],
   "source": [
    "!python val_model.py cell_dynamics_EPNS ../models/morpheus-singlecell-800.pt \\\n",
    "    --data_directory=../simulations/morpheus-twocell \\\n",
    "    --save_path=../simulations/morpheus-twocell/results-one \\\n",
    "    --device=cuda"
   ]
  },
  {
   "cell_type": "code",
   "execution_count": 7,
   "id": "5daad85d-8cf4-4dad-b720-36c24ce25293",
   "metadata": {},
   "outputs": [
    {
     "name": "stdout",
     "output_type": "stream",
     "text": [
      "MovieWriter ffmpeg unavailable; using Pillow instead.\n",
      "MovieWriter ffmpeg unavailable; using Pillow instead.\n",
      "MovieWriter ffmpeg unavailable; using Pillow instead.\n",
      "MovieWriter ffmpeg unavailable; using Pillow instead.\n",
      "MovieWriter ffmpeg unavailable; using Pillow instead.\n",
      "MovieWriter ffmpeg unavailable; using Pillow instead.\n",
      "MovieWriter ffmpeg unavailable; using Pillow instead.\n",
      "MovieWriter ffmpeg unavailable; using Pillow instead.\n"
     ]
    }
   ],
   "source": [
    "!python datagen/nparray_to_gif.py color_plots --directory ../simulations/morpheus-twocell/results-one --cmap inferno"
   ]
  },
  {
   "cell_type": "markdown",
   "id": "83065f4a-3545-4b56-baea-4beeccef1973",
   "metadata": {},
   "source": [
    "# Two Cell w/ Two cell Model"
   ]
  },
  {
   "cell_type": "code",
   "execution_count": 7,
   "id": "5fdb7a48-721f-4db8-a273-418243e11b34",
   "metadata": {},
   "outputs": [],
   "source": [
    "!mkdir -p ../simulations/morpheus-twocell/results-two"
   ]
  },
  {
   "cell_type": "code",
   "execution_count": 3,
   "id": "15971e82-91e1-4546-a776-2241f24e8674",
   "metadata": {},
   "outputs": [
    {
     "name": "stdout",
     "output_type": "stream",
     "text": [
      "set data_directory to ../simulations/morpheus-twocell in main config!\n",
      "set save_path to ../simulations/morpheus-twocell/results in main config!\n",
      "set device to cuda in main config!\n",
      "shape of first datapoint: (60, 80, 80, 2) . Number of train datapoints: 10 number of val datapoints: 10 number of test datapoints: 10\n",
      "/software/util/JupyterLab/alpha/share/pytorch_v2/lib/python3.10/site-packages/torch/nn/modules/lazy.py:181: UserWarning: Lazy modules are a new feature under heavy development so changes to the API or functionality can happen at any moment.\n",
      "  warnings.warn('Lazy modules are a new feature under heavy development '\n",
      "using conditional VAE decoder\n",
      "lowest level shape in U-net processor: torch.Size([4, 256, 10, 10])\n",
      "griddeepset permutation equivariance check succesful!\n",
      "lowest level shape in U-net processor: torch.Size([4, 256, 10, 10])\n",
      "/home/h5/syhu386f/EPNS/epns/modules/engine/Grid_modules.py:319: UserWarning: griddeepset permutation equivariance check failed! This is probably due to floating point arithmetic.\n",
      "consider checking this on the cpu and with double() types just to be sure! (see the code that is commented out in this function)\n",
      "  warnings.warn(msg)\n",
      "2it [00:05,  2.54s/it]\n"
     ]
    }
   ],
   "source": [
    "!python val_model.py cell_dynamics_EPNS ../models/morpheus-twocell-800.pt \\\n",
    "    --data_directory=../simulations/morpheus-twocell \\\n",
    "    --save_path=../simulations/morpheus-twocell/results-two \\\n",
    "    --device=cuda"
   ]
  },
  {
   "cell_type": "code",
   "execution_count": 7,
   "id": "8ad05088-4286-478a-a8fa-42dae9042c01",
   "metadata": {},
   "outputs": [
    {
     "name": "stdout",
     "output_type": "stream",
     "text": [
      "MovieWriter ffmpeg unavailable; using Pillow instead.\n",
      "MovieWriter ffmpeg unavailable; using Pillow instead.\n",
      "MovieWriter ffmpeg unavailable; using Pillow instead.\n",
      "MovieWriter ffmpeg unavailable; using Pillow instead.\n",
      "MovieWriter ffmpeg unavailable; using Pillow instead.\n",
      "MovieWriter ffmpeg unavailable; using Pillow instead.\n",
      "MovieWriter ffmpeg unavailable; using Pillow instead.\n",
      "MovieWriter ffmpeg unavailable; using Pillow instead.\n"
     ]
    }
   ],
   "source": [
    "!python datagen/nparray_to_gif.py color_plots --directory ../simulations/morpheus-twocell/results-two --cmap inferno"
   ]
  },
  {
   "cell_type": "code",
   "execution_count": 13,
   "id": "03eed2c9-dc06-4e5e-8cd0-612b7a4d0f72",
   "metadata": {},
   "outputs": [],
   "source": [
    "!python datagen/nparray_to_gif.py convert_one --path ../simulations/morpheus-singlecell/train/run_75.npy --size 640"
   ]
  }
 ],
 "metadata": {
  "kernelspec": {
   "display_name": "PyTorch v2.x (Machine Learning)",
   "language": "python",
   "name": "pytorch_v2"
  },
  "language_info": {
   "codemirror_mode": {
    "name": "ipython",
    "version": 3
   },
   "file_extension": ".py",
   "mimetype": "text/x-python",
   "name": "python",
   "nbconvert_exporter": "python",
   "pygments_lexer": "ipython3",
   "version": "3.10.4"
  }
 },
 "nbformat": 4,
 "nbformat_minor": 5
}
