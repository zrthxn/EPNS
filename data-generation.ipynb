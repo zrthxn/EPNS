{
 "cells": [
  {
   "cell_type": "code",
   "execution_count": 1,
   "id": "8d212c92-43e7-4d04-bb41-f8762caa258d",
   "metadata": {},
   "outputs": [
    {
     "name": "stdout",
     "output_type": "stream",
     "text": [
      "/home/h5/syhu386f/EPNS\n"
     ]
    },
    {
     "name": "stderr",
     "output_type": "stream",
     "text": [
      "/software/util/JupyterLab/alpha/share/pytorch_v2/lib/python3.10/site-packages/IPython/core/magics/osm.py:417: UserWarning: using dhist requires you to install the `pickleshare` library.\n",
      "  self.shell.db['dhist'] = compress_dhist(dhist)[-100:]\n"
     ]
    }
   ],
   "source": [
    "%cd EPNS"
   ]
  },
  {
   "cell_type": "code",
   "execution_count": 2,
   "id": "31e89294-b2d9-42aa-b54e-bed8f6a2c65e",
   "metadata": {},
   "outputs": [],
   "source": [
    "!source .venv/bin/activate"
   ]
  },
  {
   "cell_type": "markdown",
   "id": "a34f765c-24b6-46bd-9a34-805f53b2218f",
   "metadata": {},
   "source": [
    "# Single Cell"
   ]
  },
  {
   "cell_type": "code",
   "execution_count": 3,
   "id": "53916e61-84ec-4990-8f69-fe24977fb703",
   "metadata": {},
   "outputs": [
    {
     "name": "stdout",
     "output_type": "stream",
     "text": [
      "Starting morpheus with 800 iterations\n",
      "100%|█████████████████████████████████████████| 800/800 [27:12<00:00,  2.04s/it]\n",
      "\u001b[92mRun time: 1632.20 seconds\u001b[0m\n",
      "DONE\n"
     ]
    }
   ],
   "source": [
    "!mkdir -p ../simulations/morpheus-singlecell/train\n",
    "!python morpheus.py simulate \\\n",
    "    --iterations 800 \\\n",
    "    --output_path ../simulations/morpheus-singlecell/train"
   ]
  },
  {
   "cell_type": "code",
   "execution_count": 4,
   "id": "b5199b4f-e1a2-4156-a9ea-0f8c7782f397",
   "metadata": {},
   "outputs": [
    {
     "name": "stdout",
     "output_type": "stream",
     "text": [
      "Starting morpheus with 100 iterations\n",
      "100%|█████████████████████████████████████████| 100/100 [03:25<00:00,  2.06s/it]\n",
      "\u001b[92mRun time: 205.83 seconds\u001b[0m\n",
      "DONE\n"
     ]
    }
   ],
   "source": [
    "!mkdir -p ../simulations/morpheus-singlecell/val\n",
    "!python morpheus.py simulate \\\n",
    "    --iterations 100 \\\n",
    "    --output_path ../simulations/morpheus-singlecell/val"
   ]
  },
  {
   "cell_type": "code",
   "execution_count": 5,
   "id": "d52c1aa1-c985-4bda-a47b-3cce5b91aba2",
   "metadata": {},
   "outputs": [
    {
     "name": "stdout",
     "output_type": "stream",
     "text": [
      "Starting morpheus with 100 iterations\n",
      "100%|█████████████████████████████████████████| 100/100 [03:26<00:00,  2.07s/it]\n",
      "\u001b[92mRun time: 206.55 seconds\u001b[0m\n",
      "DONE\n"
     ]
    }
   ],
   "source": [
    "!mkdir -p ../simulations/morpheus-singlecell/test\n",
    "!python morpheus.py simulate \\\n",
    "    --iterations 100 \\\n",
    "    --output_path ../simulations/morpheus-singlecell/test"
   ]
  },
  {
   "cell_type": "markdown",
   "id": "bc5aaa6d-65e8-44b9-813b-1db5b564e2bc",
   "metadata": {},
   "source": [
    "# Two Cell"
   ]
  },
  {
   "cell_type": "code",
   "execution_count": null,
   "id": "a6501314-c19d-4154-9447-d822fe35319d",
   "metadata": {},
   "outputs": [
    {
     "name": "stdout",
     "output_type": "stream",
     "text": [
      "Starting morpheus with 800 iterations\n",
      " 75%|█████████████████████████████▍         | 603/800 [1:46:07<33:25, 10.18s/it]"
     ]
    }
   ],
   "source": [
    "!mkdir -p ../simulations/morpheus-twocell/train\n",
    "!python morpheus.py simulate \\\n",
    "    --iterations 800 \\\n",
    "    --cell_number 2 \\\n",
    "    --output_path ../simulations/morpheus-twocell/train"
   ]
  },
  {
   "cell_type": "code",
   "execution_count": null,
   "id": "1fdb583f-df3f-4c80-8407-cdb13c965e95",
   "metadata": {},
   "outputs": [],
   "source": [
    "!mkdir -p ../simulations/morpheus-twocell/val\n",
    "!python morpheus.py simulate \\\n",
    "    --iterations 100 \\\n",
    "    --cell_number 2 \\\n",
    "    --output_path ../simulations/morpheus-twocell/val"
   ]
  },
  {
   "cell_type": "code",
   "execution_count": null,
   "id": "22fcb1e5-39b4-4755-b441-181c6cd4ce5f",
   "metadata": {},
   "outputs": [],
   "source": [
    "!mkdir -p ../simulations/morpheus-twocell/test\n",
    "!python morpheus.py simulate \\\n",
    "    --iterations 100 \\\n",
    "    --cell_number 2 \\\n",
    "    --output_path ../simulations/morpheus-twocell/test"
   ]
  }
 ],
 "metadata": {
  "kernelspec": {
   "display_name": "PyTorch v2.x (Machine Learning)",
   "language": "python",
   "name": "pytorch_v2"
  },
  "language_info": {
   "codemirror_mode": {
    "name": "ipython",
    "version": 3
   },
   "file_extension": ".py",
   "mimetype": "text/x-python",
   "name": "python",
   "nbconvert_exporter": "python",
   "pygments_lexer": "ipython3",
   "version": "3.10.4"
  }
 },
 "nbformat": 4,
 "nbformat_minor": 5
}
