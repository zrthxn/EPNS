{
 "cells": [
  {
   "cell_type": "code",
   "execution_count": 2,
   "id": "add92475-4f1a-4bca-a25a-62e458db5d49",
   "metadata": {},
   "outputs": [
    {
     "name": "stdout",
     "output_type": "stream",
     "text": [
      "/home/h5/syhu386f/EPNS\n"
     ]
    },
    {
     "name": "stderr",
     "output_type": "stream",
     "text": [
      "/software/util/JupyterLab/alpha/share/pytorch_v2/lib/python3.10/site-packages/IPython/core/magics/osm.py:417: UserWarning: using dhist requires you to install the `pickleshare` library.\n",
      "  self.shell.db['dhist'] = compress_dhist(dhist)[-100:]\n"
     ]
    }
   ],
   "source": [
    "%cd EPNS"
   ]
  },
  {
   "cell_type": "code",
   "execution_count": 3,
   "id": "81585bb4-2ce0-47d2-97ad-71bfff2e59a0",
   "metadata": {},
   "outputs": [],
   "source": [
    "!source .venv/bin/activate"
   ]
  },
  {
   "cell_type": "markdown",
   "id": "718aa14d-d6df-452b-842b-0bbef8b18d3c",
   "metadata": {},
   "source": [
    "# Single Cell w/ Single Cell Model"
   ]
  },
  {
   "cell_type": "code",
   "execution_count": 3,
   "id": "a6dd9064-0ef8-4430-8971-6ec08f08c309",
   "metadata": {},
   "outputs": [],
   "source": [
    "!mkdir -p ../simulations/morpheus-singlecell/results-one/plots"
   ]
  },
  {
   "cell_type": "code",
   "execution_count": 6,
   "id": "762c1ec3-d975-4a6d-b5b0-0ca76e3b88e4",
   "metadata": {},
   "outputs": [
    {
     "name": "stdout",
     "output_type": "stream",
     "text": [
      "set data_directory to ../simulations/morpheus-singlecell in main config!\n",
      "set save_path to ../simulations/morpheus-singlecell/results in main config!\n",
      "set device to cuda in main config!\n",
      "shape of first datapoint: (60, 80, 80, 2) . Number of train datapoints: 800 number of val datapoints: 100 number of test datapoints: 98\n",
      "/software/util/JupyterLab/alpha/share/pytorch_v2/lib/python3.10/site-packages/torch/nn/modules/lazy.py:181: UserWarning: Lazy modules are a new feature under heavy development so changes to the API or functionality can happen at any moment.\n",
      "  warnings.warn('Lazy modules are a new feature under heavy development '\n",
      "using conditional VAE decoder\n",
      "lowest level shape in U-net processor: torch.Size([3, 256, 10, 10])\n",
      "griddeepset permutation equivariance check succesful!\n",
      "lowest level shape in U-net processor: torch.Size([3, 256, 10, 10])\n",
      "/home/h5/syhu386f/EPNS/epns/modules/engine/Grid_modules.py:319: UserWarning: griddeepset permutation equivariance check failed! This is probably due to floating point arithmetic.\n",
      "consider checking this on the cpu and with double() types just to be sure! (see the code that is commented out in this function)\n",
      "  warnings.warn(msg)\n",
      "13it [00:17,  1.35s/it]\n"
     ]
    }
   ],
   "source": [
    "!python val_model.py cell_dynamics_EPNS ../models/morpheus-singlecell-800.pt \\\n",
    "    --data_directory=../simulations/morpheus-singlecell \\\n",
    "    --save_path=../simulations/morpheus-singlecell/results-one \\\n",
    "    --device=cuda"
   ]
  },
  {
   "cell_type": "code",
   "execution_count": null,
   "id": "5ec70f28-7098-4e50-90ba-1cb356a69848",
   "metadata": {},
   "outputs": [
    {
     "name": "stdout",
     "output_type": "stream",
     "text": [
      "MovieWriter ffmpeg unavailable; using Pillow instead.\n",
      "MovieWriter ffmpeg unavailable; using Pillow instead.\n",
      "MovieWriter ffmpeg unavailable; using Pillow instead.\n",
      "MovieWriter ffmpeg unavailable; using Pillow instead.\n",
      "MovieWriter ffmpeg unavailable; using Pillow instead.\n",
      "MovieWriter ffmpeg unavailable; using Pillow instead.\n",
      "MovieWriter ffmpeg unavailable; using Pillow instead.\n",
      "MovieWriter ffmpeg unavailable; using Pillow instead.\n",
      "MovieWriter ffmpeg unavailable; using Pillow instead.\n",
      "MovieWriter ffmpeg unavailable; using Pillow instead.\n",
      "MovieWriter ffmpeg unavailable; using Pillow instead.\n",
      "MovieWriter ffmpeg unavailable; using Pillow instead.\n",
      "MovieWriter ffmpeg unavailable; using Pillow instead.\n",
      "MovieWriter ffmpeg unavailable; using Pillow instead.\n",
      "MovieWriter ffmpeg unavailable; using Pillow instead.\n",
      "MovieWriter ffmpeg unavailable; using Pillow instead.\n",
      "MovieWriter ffmpeg unavailable; using Pillow instead.\n",
      "MovieWriter ffmpeg unavailable; using Pillow instead.\n",
      "MovieWriter ffmpeg unavailable; using Pillow instead.\n",
      "MovieWriter ffmpeg unavailable; using Pillow instead.\n"
     ]
    }
   ],
   "source": [
    "!python datagen/nparray_to_gif.py color_plots \\\n",
    "    --directory ../simulations/morpheus-singlecell/results-one \\\n",
    "    --output_path ../simulations/morpheus-singlecell/results-one/plots \\\n",
    "    --cmap inferno"
   ]
  },
  {
   "cell_type": "markdown",
   "id": "8c45734f-7f1a-45f4-85e0-895c0ceab01b",
   "metadata": {},
   "source": [
    "# Single Cell w/ Two Cell Model"
   ]
  },
  {
   "cell_type": "code",
   "execution_count": 4,
   "id": "db973e81-bf02-4b17-88ab-c883c753c29d",
   "metadata": {},
   "outputs": [],
   "source": [
    "!mkdir -p ../simulations/morpheus-singlecell/results-two/plots"
   ]
  },
  {
   "cell_type": "code",
   "execution_count": 5,
   "id": "1710ec23-1278-4edb-b27a-95863dbaf330",
   "metadata": {},
   "outputs": [
    {
     "name": "stdout",
     "output_type": "stream",
     "text": [
      "set data_directory to ../simulations/morpheus-singlecell in main config!\n",
      "set save_path to ../simulations/morpheus-singlecell/results-two in main config!\n",
      "set device to cuda in main config!\n",
      "shape of first datapoint: (60, 80, 80, 2) . Number of train datapoints: 800 number of val datapoints: 100 number of test datapoints: 98\n",
      "/software/util/JupyterLab/alpha/share/pytorch_v2/lib/python3.10/site-packages/torch/nn/modules/lazy.py:181: UserWarning: Lazy modules are a new feature under heavy development so changes to the API or functionality can happen at any moment.\n",
      "  warnings.warn('Lazy modules are a new feature under heavy development '\n",
      "using conditional VAE decoder\n",
      "lowest level shape in U-net processor: torch.Size([3, 256, 10, 10])\n",
      "griddeepset permutation equivariance check succesful!\n",
      "lowest level shape in U-net processor: torch.Size([3, 256, 10, 10])\n",
      "griddeepset permutation equivariance check succesful!\n",
      "13it [00:17,  1.38s/it]\n"
     ]
    }
   ],
   "source": [
    "!python val_model.py cell_dynamics_EPNS ../models/morpheus-twocell-800.pt \\\n",
    "    --data_directory=../simulations/morpheus-singlecell \\\n",
    "    --save_path=../simulations/morpheus-singlecell/results-two \\\n",
    "    --device=cuda"
   ]
  },
  {
   "cell_type": "code",
   "execution_count": null,
   "id": "c259b595-5fc3-4768-ac06-b02b2a292917",
   "metadata": {},
   "outputs": [],
   "source": [
    "!python datagen/nparray_to_gif.py color_plots \\\n",
    "    --directory ../simulations/morpheus-singlecell/results-two \\\n",
    "    --output_path ../simulations/morpheus-singlecell/results-two/plots \\\n",
    "    --cmap inferno"
   ]
  },
  {
   "cell_type": "markdown",
   "id": "465e5037-f9a5-477f-85d0-e6857e18508b",
   "metadata": {},
   "source": [
    "# Two Cell w/ Single cell Model"
   ]
  },
  {
   "cell_type": "code",
   "execution_count": 7,
   "id": "75e264e1-b47e-4925-b920-959aa0850f82",
   "metadata": {},
   "outputs": [],
   "source": [
    "!mkdir -p ../simulations/morpheus-twocell/results-one/plots"
   ]
  },
  {
   "cell_type": "code",
   "execution_count": 8,
   "id": "40187d43-27d3-4eff-b6ef-769fbf1f181a",
   "metadata": {},
   "outputs": [
    {
     "name": "stdout",
     "output_type": "stream",
     "text": [
      "set data_directory to ../simulations/morpheus-twocell in main config!\n",
      "set save_path to ../simulations/morpheus-twocell/results-one in main config!\n",
      "set device to cuda in main config!\n",
      "shape of first datapoint: (60, 80, 80, 2) . Number of train datapoints: 800 number of val datapoints: 100 number of test datapoints: 100\n",
      "/software/util/JupyterLab/alpha/share/pytorch_v2/lib/python3.10/site-packages/torch/nn/modules/lazy.py:181: UserWarning: Lazy modules are a new feature under heavy development so changes to the API or functionality can happen at any moment.\n",
      "  warnings.warn('Lazy modules are a new feature under heavy development '\n",
      "using conditional VAE decoder\n",
      "lowest level shape in U-net processor: torch.Size([4, 256, 10, 10])\n",
      "griddeepset permutation equivariance check succesful!\n",
      "lowest level shape in U-net processor: torch.Size([4, 256, 10, 10])\n",
      "/home/h5/syhu386f/EPNS/epns/modules/engine/Grid_modules.py:319: UserWarning: griddeepset permutation equivariance check failed! This is probably due to floating point arithmetic.\n",
      "consider checking this on the cpu and with double() types just to be sure! (see the code that is commented out in this function)\n",
      "  warnings.warn(msg)\n",
      "13it [00:27,  2.09s/it]\n"
     ]
    }
   ],
   "source": [
    "!python val_model.py cell_dynamics_EPNS ../models/morpheus-singlecell-800.pt \\\n",
    "    --data_directory=../simulations/morpheus-twocell \\\n",
    "    --save_path=../simulations/morpheus-twocell/results-one \\\n",
    "    --device=cuda"
   ]
  },
  {
   "cell_type": "code",
   "execution_count": null,
   "id": "5daad85d-8cf4-4dad-b720-36c24ce25293",
   "metadata": {},
   "outputs": [],
   "source": [
    "!python datagen/nparray_to_gif.py color_plots \\\n",
    "    --directory ../simulations/morpheus-twocell/results-one \\\n",
    "    --output_path ../simulations/morpheus-twocell/results-one/plots \\\n",
    "    --cmap inferno"
   ]
  },
  {
   "cell_type": "markdown",
   "id": "36ed1013-547a-4e0e-b445-f7f9341df506",
   "metadata": {},
   "source": [
    "# Two Cell w/ Two cell Model"
   ]
  },
  {
   "cell_type": "code",
   "execution_count": 10,
   "id": "5fdb7a48-721f-4db8-a273-418243e11b34",
   "metadata": {},
   "outputs": [],
   "source": [
    "!mkdir -p ../simulations/morpheus-twocell/results-two/plots"
   ]
  },
  {
   "cell_type": "code",
   "execution_count": 11,
   "id": "15971e82-91e1-4546-a776-2241f24e8674",
   "metadata": {},
   "outputs": [
    {
     "name": "stdout",
     "output_type": "stream",
     "text": [
      "set data_directory to ../simulations/morpheus-twocell in main config!\n",
      "set save_path to ../simulations/morpheus-twocell/results-two in main config!\n",
      "set device to cuda in main config!\n",
      "shape of first datapoint: (60, 80, 80, 2) . Number of train datapoints: 800 number of val datapoints: 100 number of test datapoints: 100\n",
      "/software/util/JupyterLab/alpha/share/pytorch_v2/lib/python3.10/site-packages/torch/nn/modules/lazy.py:181: UserWarning: Lazy modules are a new feature under heavy development so changes to the API or functionality can happen at any moment.\n",
      "  warnings.warn('Lazy modules are a new feature under heavy development '\n",
      "using conditional VAE decoder\n",
      "lowest level shape in U-net processor: torch.Size([4, 256, 10, 10])\n",
      "griddeepset permutation equivariance check succesful!\n",
      "lowest level shape in U-net processor: torch.Size([4, 256, 10, 10])\n",
      "griddeepset permutation equivariance check succesful!\n",
      "13it [00:20,  1.58s/it]\n"
     ]
    }
   ],
   "source": [
    "!python val_model.py cell_dynamics_EPNS ../models/morpheus-twocell-800.pt \\\n",
    "    --data_directory=../simulations/morpheus-twocell \\\n",
    "    --save_path=../simulations/morpheus-twocell/results-two \\\n",
    "    --device=cuda"
   ]
  },
  {
   "cell_type": "code",
   "execution_count": null,
   "id": "8ad05088-4286-478a-a8fa-42dae9042c01",
   "metadata": {},
   "outputs": [],
   "source": [
    "!python datagen/nparray_to_gif.py color_plots \\\n",
    "    --directory ../simulations/morpheus-twocell/results-two \\\n",
    "    --output_path ../simulations/morpheus-twocell/results-two/plots \\\n",
    "    --cmap inferno"
   ]
  },
  {
   "cell_type": "markdown",
   "id": "84393b04-891d-4d24-8ecf-5cf11de5bf13",
   "metadata": {},
   "source": [
    "# Observations\n",
    "\n",
    "- single cell model on two cells tends to combine two cells into the volume of one\n",
    "- two cell model on two cells keeps the volume double"
   ]
  },
  {
   "cell_type": "code",
   "execution_count": null,
   "id": "03eed2c9-dc06-4e5e-8cd0-612b7a4d0f72",
   "metadata": {},
   "outputs": [],
   "source": [
    "!python datagen/nparray_to_gif.py convert_one --path ../simulations/morpheus-singlecell/test/run_0.npy --size 640"
   ]
  }
 ],
 "metadata": {
  "kernelspec": {
   "display_name": "PyTorch v2.x (Machine Learning)",
   "language": "python",
   "name": "pytorch_v2"
  },
  "language_info": {
   "codemirror_mode": {
    "name": "ipython",
    "version": 3
   },
   "file_extension": ".py",
   "mimetype": "text/x-python",
   "name": "python",
   "nbconvert_exporter": "python",
   "pygments_lexer": "ipython3",
   "version": "3.10.4"
  }
 },
 "nbformat": 4,
 "nbformat_minor": 5
}
